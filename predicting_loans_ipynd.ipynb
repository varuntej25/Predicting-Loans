{
  "nbformat": 4,
  "nbformat_minor": 0,
  "metadata": {
    "colab": {
      "private_outputs": true,
      "provenance": []
    },
    "kernelspec": {
      "name": "python3",
      "display_name": "Python 3"
    },
    "language_info": {
      "name": "python"
    }
  },
  "cells": [
    {
      "cell_type": "code",
      "execution_count": null,
      "metadata": {
        "id": "m8U0D_J0XtMN"
      },
      "outputs": [],
      "source": [
        "import pandas as pd\n",
        "from sklearn.preprocessing import StandardScaler, LabelEncoder\n",
        "from sklearn.model_selection import train_test_split, cross_val_score\n",
        "from sklearn.ensemble import RandomForestClassifier\n",
        "from sklearn.metrics import accuracy_score, classification_report, roc_auc_score\n",
        "\n",
        "# Load the data\n",
        "data = pd.read_excel('loan data (1).xlsx')\n",
        "\n",
        "# Preprocessing\n",
        "# Fill missing values\n",
        "data['Cibil Score'].fillna(data['Cibil TRULYScore'].median(), inplace=True)\n",
        "\n",
        "# Encode categorical data\n",
        "data = pd.get_dummies(data, columns=['Location'])\n",
        "\n",
        "# Scale numerical features\n",
        "scaler = StandardScaler()\n",
        "numerical_features = ['Cibil Score', 'Age', 'Net Salary', 'Unnamed: 4']\n",
        "data[numerical_features] = scaler.fit_transform(data[numerical_features])\n",
        "\n",
        "# Encode target variable\n",
        "label_encoder = LabelEncoder()\n",
        "data['Disbursed'] = label_encoder.fit_transform(data['Disbursed'])\n",
        "\n",
        "# Split the data\n",
        "X = data.drop(columns=['Disbursed', 'Disbursed amount'])\n",
        "y = data['Disbursed']\n",
        "X_train, X_test, y_train, y_test = train_test_size(X, y, test_size=0.2, random_state=42)\n",
        "\n",
        "# Model training\n",
        "model = RandomForestClassifier()\n",
        "model.fit(X_train, y_train)\n",
        "\n",
        "# Model evaluation\n",
        "y_pred = model.predict(X_test)\n",
        "accuracy = accuracy_score(y_test, y_pred)\n",
        "report = classification_report(y_test, y_pred)\n",
        "roc_auc = roc_auc_score(y_test, model.predict_proba(X_test)[:, 1])\n",
        "\n",
        "print(\"Accuracy:\", accuracy)\n",
        "print(\"Classification Report:\\n\", report)\n",
        "print(\"ROC-AUC Score:\", roc_auc)\n"
      ]
    }
  ]
}